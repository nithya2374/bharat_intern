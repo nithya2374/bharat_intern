{
 "cells": [
  {
   "cell_type": "code",
   "execution_count": 1,
   "metadata": {},
   "outputs": [],
   "source": [
    "import os\n",
    "import numpy as np\n",
    "import pandas as pd\n",
    "from sklearn.neighbors import NearestNeighbors\n",
    "from fuzzywuzzy import process"
   ]
  },
  {
   "cell_type": "code",
   "execution_count": 2,
   "metadata": {},
   "outputs": [],
   "source": [
    "# Load the data\n",
    "user_ratings_df = pd.read_csv(r'C:\\Users\\user\\intern_nithya\\ratings.csv')\n",
    "movie_metadata = pd.read_csv(r'C:\\Users\\user\\intern_nithya\\movies_metadata.csv')"
   ]
  },
  {
   "cell_type": "code",
   "execution_count": 3,
   "metadata": {},
   "outputs": [],
   "source": [
    "# Merge the data\n",
    "movie_data = user_ratings_df.merge(movie_metadata, on=\"movieId\")"
   ]
  },
  {
   "cell_type": "code",
   "execution_count": 4,
   "metadata": {},
   "outputs": [],
   "source": [
    "# Create a user-item matrix\n",
    "user_item_matrix = user_ratings_df.pivot(\n",
    "    index=[\"movieId\"], columns=[\"userId\"], values=\"rating\"\n",
    "    ).fillna(0)"
   ]
  },
  {
   "cell_type": "code",
   "execution_count": 5,
   "metadata": {},
   "outputs": [],
   "source": [
    "# Create a KNN model\n",
    "cf_model = NearestNeighbors(\n",
    "    metric=\"cosine\", algorithm=\"brute\", n_neighbors=10, n_jobs=-1\n",
    ")"
   ]
  },
  {
   "cell_type": "code",
   "execution_count": 6,
   "metadata": {},
   "outputs": [],
   "source": [
    "def movie_recommender_engine(movie_name, matrix, cf_model, n_recs):\n",
    "    # Fit the model\n",
    "    cf_knn_model = cf_model.fit(user_item_matrix)\n",
    "\n",
    "    # Extract the movie index\n",
    "    movie_id = process.extractOne(movie_name, movie_metadata[\"title\"])[2]\n",
    "\n",
    "    # Calculate neighbor distances\n",
    "    distances, indices = cf_knn_model.kneighbors(matrix.loc[movie_id, :].values.reshape(1, -1), n_neighbors=n_recs)\n",
    "    movie_rec_ids = sorted(\n",
    "        list(zip(indices.squeeze().tolist(), distances.squeeze().tolist())),\n",
    "        key=lambda x: x[1],\n",
    "    )[:0:-1]\n",
    "\n",
    "    # List to store recommendations\n",
    "    cf_recs = []\n",
    "    for i in movie_rec_ids:\n",
    "        cf_recs.append({\"Title\": movie_metadata[\"title\"][i[0]], \"Distance\": i[1]})\n",
    "\n",
    "    # Select top number of recommendations needed\n",
    "    df = pd.DataFrame(cf_recs, index=range(1, n_recs))\n",
    "\n",
    "    return df"
   ]
  },
  {
   "cell_type": "code",
   "execution_count": 10,
   "metadata": {},
   "outputs": [
    {
     "name": "stdout",
     "output_type": "stream",
     "text": [
      "                        Title  Distance\n",
      "1       Poetic Justice (1993)  0.543828\n",
      "2  I Like It Like That (1994)  0.543828\n",
      "3       Sum of Us, The (1994)  0.543828\n",
      "4  Spirits of the Dead (1968)  0.543828\n",
      "5                Gordy (1995)  0.543828\n",
      "6                Bliss (1997)  0.543828\n",
      "7     Nothing Personal (1995)  0.543828\n",
      "8    Walking Dead, The (1995)  0.543828\n",
      "9     Before and After (1996)  0.452371\n"
     ]
    }
   ],
   "source": [
    "n_recs = 10 # Number of recommendations (excluding the movie itself)\n",
    "print(movie_recommender_engine(\"The Avengers\", user_item_matrix, cf_model, n_recs))"
   ]
  },
  {
   "cell_type": "code",
   "execution_count": null,
   "metadata": {},
   "outputs": [],
   "source": []
  }
 ],
 "metadata": {
  "kernelspec": {
   "display_name": "Python 3 (ipykernel)",
   "language": "python",
   "name": "python3"
  },
  "language_info": {
   "codemirror_mode": {
    "name": "ipython",
    "version": 3
   },
   "file_extension": ".py",
   "mimetype": "text/x-python",
   "name": "python",
   "nbconvert_exporter": "python",
   "pygments_lexer": "ipython3",
   "version": "3.9.13"
  }
 },
 "nbformat": 4,
 "nbformat_minor": 2
}
